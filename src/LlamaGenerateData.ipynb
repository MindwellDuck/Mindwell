{
 "cells": [
  {
   "cell_type": "code",
   "execution_count": 1,
   "metadata": {},
   "outputs": [],
   "source": [
    "import json\n",
    "import random\n",
    "from transformers import AutoTokenizer, AutoModelForCausalLM\n",
    "import torch\n",
    "from tqdm.notebook import trange, tqdm\n",
    "from datetime import datetime"
   ]
  },
  {
   "cell_type": "code",
   "execution_count": 2,
   "metadata": {},
   "outputs": [
    {
     "data": {
      "application/vnd.jupyter.widget-view+json": {
       "model_id": "bda5e21664f34b2eaf0972b19d776e18",
       "version_major": 2,
       "version_minor": 0
      },
      "text/plain": [
       "Loading checkpoint shards:   0%|          | 0/2 [00:00<?, ?it/s]"
      ]
     },
     "metadata": {},
     "output_type": "display_data"
    },
    {
     "name": "stdout",
     "output_type": "stream",
     "text": [
      "Using device: cuda\n"
     ]
    }
   ],
   "source": [
    "def load_llama_model():\n",
    "    \"\"\"Load LLaMA model and tokenizer\"\"\"\n",
    "    model_name = \"/home/g4/Llama-3.2-3B-Instruct\"\n",
    "    model = AutoModelForCausalLM.from_pretrained(model_name)\n",
    "    tokenizer = AutoTokenizer.from_pretrained(model_name)\n",
    "\n",
    "    if tokenizer.pad_token_id is None:\n",
    "        tokenizer.pad_token_id = tokenizer.eos_token_id\n",
    "    if model.config.pad_token_id is None:\n",
    "        model.config.pad_token_id = model.config.eos_token_id\n",
    "\n",
    "    device = torch.device(\"cuda\" if torch.cuda.is_available() else \"cpu\")\n",
    "    print(f\"Using device: {device}\")\n",
    "    \n",
    "    model = model.to(device)\n",
    "\n",
    "\n",
    "    return model, tokenizer, device\n",
    "\n",
    "model, tokenizer, device = load_llama_model()"
   ]
  },
  {
   "cell_type": "code",
   "execution_count": 3,
   "metadata": {},
   "outputs": [],
   "source": [
    "cognitive_distortions = {\n",
    "    \"All or Nothing Thinking\": \"I view a situation, a person or an event in “either-or” terms, fitting them into only two extreme categories instead of on a continuum.\",\n",
    "    \"Fortune Telling\": \"I predict the future in negative terms and believe that what will happen will be so awful that I will not be able to stand it.\",\n",
    "    \"Emotional Reasoning\": \"I believe my emotions reflect reality and let them guide my attitudes and judgments.\",\n",
    "    \"Labeling/Global Labeling\": \"I put a fixed, usually negative, global label on myself or others.\",\n",
    "    \"Mental Filter\": \"I pay attention to one or a few details and fail to see the whole picture.\",\n",
    "    \"Mind Reading\": \"I believe that I know the thoughts or intentions of others (or that they know my thoughts or intentions) without sufficient evidence.\",\n",
    "    \"Overgeneralization\": \"I take isolated negative cases and generalize them, using words like “always,” “never,” “whole,” “entire,” etc.\",\n",
    "    \"Personalization\": \"I assume that others’ behaviors and external events concern myself without considering other plausible explanations.\",\n",
    "    \"Should Statements\": \"I tell myself that events, people’s behaviors, and my own attitudes “should” be the way I expected, not as they are.\",\n",
    "    \"Blaming\": \"I direct blame to others for my negative feelings or take responsibility for others' behaviors and attitudes.\",\n",
    "    \"What if?\": \"I keep asking questions like “what if something happens?” focusing on negative outcomes.\",\n",
    "    \"Discounting the Positive\": \"I disqualify positive experiences or events, insisting that they don’t count.\",\n",
    "    \"Magnification/Minimization\": \"I emphasize the negatives or downplay positives in myself, others, or situations.\",\n",
    "    \"Jumping to Conclusions\": \"I draw conclusions from little or no confirmatory evidence.\",\n",
    "    \"Unfair Comparisons\": \"I compare myself with others who seem better and place myself at a disadvantage.\"\n",
    "}\n",
    "\n",
    "# Variants of tone, style, intensity, and other characteristics for diverse responses\n",
    "tones = [\"angry\", \"calm\", \"frustrated\", \"sarcastic\", \"venting\", \"blunt\", \"sad\", \"anxious\", \"direct\"]\n",
    "structures = [\"structured\", \"scattered\", \"nuanced\", \"blunt\", \"sarcastic\"]\n",
    "intensities = [\"mild\", \"intense\", \"slightly annoyed\", \"highly emotional\", \"casual\"]\n",
    "use_of_language = [\"use cuss words\", \"avoid cuss words\", \"use formal language\", \"use casual language\"]\n",
    "\n",
    "system_message = \"\"\"\n",
    "You are an expert assistant specializing in identifying and generating text examples that reflect common cognitive distortions.\n",
    "Your task is to generate writing prompts and then create text from the perspective of people experiencing specific cognitive distortions without being aware of it.\n",
    "Each time you are asked to generate text, remember that the person should not be aware of their cognitive distortion.\n",
    "Make sure the situation, writing style, and personality of the person are different for each response.\n",
    "The final text should demonstrate the cognitive distortion in a subtle, human, realistic way.\n",
    "\"\"\""
   ]
  },
  {
   "cell_type": "code",
   "execution_count": 4,
   "metadata": {},
   "outputs": [],
   "source": [
    "def generate_response(text: str, count) -> str:\n",
    "    messages = [\n",
    "    {\n",
    "        \"role\": \"system\",\n",
    "        \"content\": system_message,\n",
    "    },\n",
    "    {\"role\": \"user\", \"content\": text},\n",
    " ]\n",
    "    inputs = tokenizer.apply_chat_template(messages, tokenize=True, return_dict=True, add_generation_prompt=True, return_tensors=\"pt\")\n",
    "    inputs = {k: v.to(model.device) for k, v in inputs.items()}\n",
    "    outputs = model.generate(\n",
    "        **inputs,\n",
    "        max_new_tokens=count,\n",
    "        temperature=0.1,\n",
    "        top_p=0.9,\n",
    "        repetition_penalty=1.1,\n",
    "        do_sample=True,\n",
    "        pad_token_id=tokenizer.pad_token_id,\n",
    "        eos_token_id=tokenizer.eos_token_id,\n",
    "        use_cache=True,\n",
    "    )\n",
    "    return tokenizer.decode(outputs[0][len(inputs[\"input_ids\"][0]):])"
   ]
  },
  {
   "cell_type": "code",
   "execution_count": 5,
   "metadata": {},
   "outputs": [],
   "source": [
    "def generate_prompt(cognitive_distortion):\n",
    "    # Look up the definition for the specific cognitive distortion\n",
    "    definition = cognitive_distortions[cognitive_distortion]\n",
    "    \n",
    "    # Randomly choose characteristics for varied human-like writing styles\n",
    "    chosen_tone = random.choice(tones)\n",
    "    chosen_structure = random.choice(structures)\n",
    "    chosen_intensity = random.choice(intensities)\n",
    "    chosen_language = random.choice(use_of_language)\n",
    "\n",
    "    user_message = f\"Generate a writing prompt for the cognitive distortion '{cognitive_distortion}'. The definition of this cognitive distortion is: '{definition}'. Write as if the person experiencing this distortion has a {chosen_tone} tone, with a {chosen_structure} structure, expressing a {chosen_intensity} level of intensity, and {chosen_language}. The prompt should ask Llama 3.2 to write from the perspective of someone experiencing this distortion, and the person should not be aware of it. DO NOT PROVIDE AN EXAMPLE! ONLY RESPOND WITH THE PROMPT, DO NOT ADD ANY EXTRA CONTEXT!\"\n",
    "    \n",
    "    return generate_response(user_message, 1000)\n",
    "\n",
    "\n",
    "def generate_text_from_prompt(prompt, cognitive_distortion):\n",
    "    user_message = f\"Using the following writing prompt, generate one example from the perspective of someone experiencing the cognitive distortion '{cognitive_distortion}'. Make sure they are not aware of the distortion, and the text should demonstrate their behavior subtly. Prompt: {prompt} RESPOND WITH ONLY THE EXAMPLE, NO EXTRA CONTEXT!\"\n",
    "\n",
    "    return generate_response(user_message, 1000)"
   ]
  },
  {
   "cell_type": "code",
   "execution_count": null,
   "metadata": {},
   "outputs": [
    {
     "data": {
      "application/vnd.jupyter.widget-view+json": {
       "model_id": "d7f04e39a49241b0994bc025eef415ab",
       "version_major": 2,
       "version_minor": 0
      },
      "text/plain": [
       "Iteration                       0%|          | 0/100 [00:00<?, ?it/s]"
      ]
     },
     "metadata": {},
     "output_type": "display_data"
    },
    {
     "data": {
      "application/vnd.jupyter.widget-view+json": {
       "model_id": "4ce98fe499f142f7b55fe84404c2cc14",
       "version_major": 2,
       "version_minor": 0
      },
      "text/plain": [
       "Distortions                     0%|          | 0/15 [00:00<?, ?it/s]"
      ]
     },
     "metadata": {},
     "output_type": "display_data"
    },
    {
     "data": {
      "application/vnd.jupyter.widget-view+json": {
       "model_id": "c24e4aef86ba484b9d3b9469531c291d",
       "version_major": 2,
       "version_minor": 0
      },
      "text/plain": [
       "All or Nothing Thinking         0%|          | 0/20 [00:00<?, ?it/s]"
      ]
     },
     "metadata": {},
     "output_type": "display_data"
    },
    {
     "name": "stderr",
     "output_type": "stream",
     "text": [
      "Starting from v4.46, the `logits` model output will have the same type as the model (except at train time, where it will always be FP32)\n"
     ]
    },
    {
     "data": {
      "application/vnd.jupyter.widget-view+json": {
       "model_id": "24d0cfbe28374fb8b7f6108a0db64259",
       "version_major": 2,
       "version_minor": 0
      },
      "text/plain": [
       "Fortune Telling                 0%|          | 0/20 [00:00<?, ?it/s]"
      ]
     },
     "metadata": {},
     "output_type": "display_data"
    },
    {
     "data": {
      "application/vnd.jupyter.widget-view+json": {
       "model_id": "6702ffde00d244888fdbaa321d0598bd",
       "version_major": 2,
       "version_minor": 0
      },
      "text/plain": [
       "Emotional Reasoning             0%|          | 0/20 [00:00<?, ?it/s]"
      ]
     },
     "metadata": {},
     "output_type": "display_data"
    },
    {
     "data": {
      "application/vnd.jupyter.widget-view+json": {
       "model_id": "2d37b068ba5c4fb0a7732a5617296132",
       "version_major": 2,
       "version_minor": 0
      },
      "text/plain": [
       "Labeling/Global Labeling        0%|          | 0/20 [00:00<?, ?it/s]"
      ]
     },
     "metadata": {},
     "output_type": "display_data"
    },
    {
     "data": {
      "application/vnd.jupyter.widget-view+json": {
       "model_id": "4969a56699b84ee9bacaad303adee14c",
       "version_major": 2,
       "version_minor": 0
      },
      "text/plain": [
       "Mental Filter                   0%|          | 0/20 [00:00<?, ?it/s]"
      ]
     },
     "metadata": {},
     "output_type": "display_data"
    },
    {
     "data": {
      "application/vnd.jupyter.widget-view+json": {
       "model_id": "9487b747798844e5a62106b92429a6d6",
       "version_major": 2,
       "version_minor": 0
      },
      "text/plain": [
       "Mind Reading                    0%|          | 0/20 [00:00<?, ?it/s]"
      ]
     },
     "metadata": {},
     "output_type": "display_data"
    },
    {
     "data": {
      "application/vnd.jupyter.widget-view+json": {
       "model_id": "84a5bbe15812428384d5ef80bb66d687",
       "version_major": 2,
       "version_minor": 0
      },
      "text/plain": [
       "Overgeneralization              0%|          | 0/20 [00:00<?, ?it/s]"
      ]
     },
     "metadata": {},
     "output_type": "display_data"
    },
    {
     "data": {
      "application/vnd.jupyter.widget-view+json": {
       "model_id": "c8d29e9e6cf549d58be16c702433d83d",
       "version_major": 2,
       "version_minor": 0
      },
      "text/plain": [
       "Personalization                 0%|          | 0/20 [00:00<?, ?it/s]"
      ]
     },
     "metadata": {},
     "output_type": "display_data"
    },
    {
     "data": {
      "application/vnd.jupyter.widget-view+json": {
       "model_id": "0bdf6299f3184a68a51aa4c671765b4e",
       "version_major": 2,
       "version_minor": 0
      },
      "text/plain": [
       "Should Statements               0%|          | 0/20 [00:00<?, ?it/s]"
      ]
     },
     "metadata": {},
     "output_type": "display_data"
    },
    {
     "data": {
      "application/vnd.jupyter.widget-view+json": {
       "model_id": "0e790e961f45469fa8e6c17fdf10d919",
       "version_major": 2,
       "version_minor": 0
      },
      "text/plain": [
       "Blaming                         0%|          | 0/20 [00:00<?, ?it/s]"
      ]
     },
     "metadata": {},
     "output_type": "display_data"
    },
    {
     "data": {
      "application/vnd.jupyter.widget-view+json": {
       "model_id": "ff28cec46bac46c7a326619d8f3da995",
       "version_major": 2,
       "version_minor": 0
      },
      "text/plain": [
       "What if?                        0%|          | 0/20 [00:00<?, ?it/s]"
      ]
     },
     "metadata": {},
     "output_type": "display_data"
    },
    {
     "data": {
      "application/vnd.jupyter.widget-view+json": {
       "model_id": "5e9de25a436a4466ac187abedd34d43c",
       "version_major": 2,
       "version_minor": 0
      },
      "text/plain": [
       "Discounting the Positive        0%|          | 0/20 [00:00<?, ?it/s]"
      ]
     },
     "metadata": {},
     "output_type": "display_data"
    },
    {
     "data": {
      "application/vnd.jupyter.widget-view+json": {
       "model_id": "e6c65800c5644addb5a7d03c1bb04074",
       "version_major": 2,
       "version_minor": 0
      },
      "text/plain": [
       "Magnification/Minimization      0%|          | 0/20 [00:00<?, ?it/s]"
      ]
     },
     "metadata": {},
     "output_type": "display_data"
    },
    {
     "data": {
      "application/vnd.jupyter.widget-view+json": {
       "model_id": "56365d08aab249bbad89df8dd8da8890",
       "version_major": 2,
       "version_minor": 0
      },
      "text/plain": [
       "Jumping to Conclusions          0%|          | 0/20 [00:00<?, ?it/s]"
      ]
     },
     "metadata": {},
     "output_type": "display_data"
    },
    {
     "data": {
      "application/vnd.jupyter.widget-view+json": {
       "model_id": "5814bcbe1b59402db3ab7ab34493ca5b",
       "version_major": 2,
       "version_minor": 0
      },
      "text/plain": [
       "Unfair Comparisons              0%|          | 0/20 [00:00<?, ?it/s]"
      ]
     },
     "metadata": {},
     "output_type": "display_data"
    },
    {
     "data": {
      "application/vnd.jupyter.widget-view+json": {
       "model_id": "5a06e5a165a540cb8c09f1c936635568",
       "version_major": 2,
       "version_minor": 0
      },
      "text/plain": [
       "Distortions                     0%|          | 0/15 [00:00<?, ?it/s]"
      ]
     },
     "metadata": {},
     "output_type": "display_data"
    },
    {
     "data": {
      "application/vnd.jupyter.widget-view+json": {
       "model_id": "e2a45c151f954fbf8b0081a7c300c8af",
       "version_major": 2,
       "version_minor": 0
      },
      "text/plain": [
       "All or Nothing Thinking         0%|          | 0/20 [00:00<?, ?it/s]"
      ]
     },
     "metadata": {},
     "output_type": "display_data"
    },
    {
     "data": {
      "application/vnd.jupyter.widget-view+json": {
       "model_id": "9ba45ed7fcc743fabd2c76dd734bc333",
       "version_major": 2,
       "version_minor": 0
      },
      "text/plain": [
       "Fortune Telling                 0%|          | 0/20 [00:00<?, ?it/s]"
      ]
     },
     "metadata": {},
     "output_type": "display_data"
    },
    {
     "data": {
      "application/vnd.jupyter.widget-view+json": {
       "model_id": "2975b06a09a2495587b02a2a2fe8d26f",
       "version_major": 2,
       "version_minor": 0
      },
      "text/plain": [
       "Emotional Reasoning             0%|          | 0/20 [00:00<?, ?it/s]"
      ]
     },
     "metadata": {},
     "output_type": "display_data"
    },
    {
     "data": {
      "application/vnd.jupyter.widget-view+json": {
       "model_id": "2cb2fe9e2ec841c5a8bed171eae0fd52",
       "version_major": 2,
       "version_minor": 0
      },
      "text/plain": [
       "Labeling/Global Labeling        0%|          | 0/20 [00:00<?, ?it/s]"
      ]
     },
     "metadata": {},
     "output_type": "display_data"
    },
    {
     "data": {
      "application/vnd.jupyter.widget-view+json": {
       "model_id": "d5fa9804c009464f90f15610dc63e259",
       "version_major": 2,
       "version_minor": 0
      },
      "text/plain": [
       "Mental Filter                   0%|          | 0/20 [00:00<?, ?it/s]"
      ]
     },
     "metadata": {},
     "output_type": "display_data"
    },
    {
     "data": {
      "application/vnd.jupyter.widget-view+json": {
       "model_id": "c83402991c894ffc8bd984de5e755b7e",
       "version_major": 2,
       "version_minor": 0
      },
      "text/plain": [
       "Mind Reading                    0%|          | 0/20 [00:00<?, ?it/s]"
      ]
     },
     "metadata": {},
     "output_type": "display_data"
    },
    {
     "data": {
      "application/vnd.jupyter.widget-view+json": {
       "model_id": "ed95239dcc634fd9bae05c74dabbea2d",
       "version_major": 2,
       "version_minor": 0
      },
      "text/plain": [
       "Overgeneralization              0%|          | 0/20 [00:00<?, ?it/s]"
      ]
     },
     "metadata": {},
     "output_type": "display_data"
    },
    {
     "data": {
      "application/vnd.jupyter.widget-view+json": {
       "model_id": "203bec17b1a14e4faf8ec35ddec4ca89",
       "version_major": 2,
       "version_minor": 0
      },
      "text/plain": [
       "Personalization                 0%|          | 0/20 [00:00<?, ?it/s]"
      ]
     },
     "metadata": {},
     "output_type": "display_data"
    },
    {
     "data": {
      "application/vnd.jupyter.widget-view+json": {
       "model_id": "28f39c00f2074991b4cd1385508aee6d",
       "version_major": 2,
       "version_minor": 0
      },
      "text/plain": [
       "Should Statements               0%|          | 0/20 [00:00<?, ?it/s]"
      ]
     },
     "metadata": {},
     "output_type": "display_data"
    },
    {
     "data": {
      "application/vnd.jupyter.widget-view+json": {
       "model_id": "0bcdcec3b81a46e3ad9bbab9f810ed64",
       "version_major": 2,
       "version_minor": 0
      },
      "text/plain": [
       "Blaming                         0%|          | 0/20 [00:00<?, ?it/s]"
      ]
     },
     "metadata": {},
     "output_type": "display_data"
    },
    {
     "data": {
      "application/vnd.jupyter.widget-view+json": {
       "model_id": "a9ad62bba2da4f54bd3e08ec42178e71",
       "version_major": 2,
       "version_minor": 0
      },
      "text/plain": [
       "What if?                        0%|          | 0/20 [00:00<?, ?it/s]"
      ]
     },
     "metadata": {},
     "output_type": "display_data"
    },
    {
     "data": {
      "application/vnd.jupyter.widget-view+json": {
       "model_id": "44b0a8ebe010400c965bdf86c7e62516",
       "version_major": 2,
       "version_minor": 0
      },
      "text/plain": [
       "Discounting the Positive        0%|          | 0/20 [00:00<?, ?it/s]"
      ]
     },
     "metadata": {},
     "output_type": "display_data"
    },
    {
     "data": {
      "application/vnd.jupyter.widget-view+json": {
       "model_id": "4d56821959e34f628157d20150359b5f",
       "version_major": 2,
       "version_minor": 0
      },
      "text/plain": [
       "Magnification/Minimization      0%|          | 0/20 [00:00<?, ?it/s]"
      ]
     },
     "metadata": {},
     "output_type": "display_data"
    },
    {
     "data": {
      "application/vnd.jupyter.widget-view+json": {
       "model_id": "f2242a006de645afa793e15491053962",
       "version_major": 2,
       "version_minor": 0
      },
      "text/plain": [
       "Jumping to Conclusions          0%|          | 0/20 [00:00<?, ?it/s]"
      ]
     },
     "metadata": {},
     "output_type": "display_data"
    },
    {
     "data": {
      "application/vnd.jupyter.widget-view+json": {
       "model_id": "f129aed416aa4a4fad3c6979b95bf4ef",
       "version_major": 2,
       "version_minor": 0
      },
      "text/plain": [
       "Unfair Comparisons              0%|          | 0/20 [00:00<?, ?it/s]"
      ]
     },
     "metadata": {},
     "output_type": "display_data"
    },
    {
     "data": {
      "application/vnd.jupyter.widget-view+json": {
       "model_id": "28281757217546479897d515eca4aa3a",
       "version_major": 2,
       "version_minor": 0
      },
      "text/plain": [
       "Distortions                     0%|          | 0/15 [00:00<?, ?it/s]"
      ]
     },
     "metadata": {},
     "output_type": "display_data"
    },
    {
     "data": {
      "application/vnd.jupyter.widget-view+json": {
       "model_id": "e8aa6a8d3bc24adaa33a2d9a06bd6b7d",
       "version_major": 2,
       "version_minor": 0
      },
      "text/plain": [
       "All or Nothing Thinking         0%|          | 0/20 [00:00<?, ?it/s]"
      ]
     },
     "metadata": {},
     "output_type": "display_data"
    },
    {
     "data": {
      "application/vnd.jupyter.widget-view+json": {
       "model_id": "9e251f46d5c24e77b6a9e5d6e52ec8cc",
       "version_major": 2,
       "version_minor": 0
      },
      "text/plain": [
       "Fortune Telling                 0%|          | 0/20 [00:00<?, ?it/s]"
      ]
     },
     "metadata": {},
     "output_type": "display_data"
    },
    {
     "data": {
      "application/vnd.jupyter.widget-view+json": {
       "model_id": "f26393509d4d4d28b8852683b3482775",
       "version_major": 2,
       "version_minor": 0
      },
      "text/plain": [
       "Emotional Reasoning             0%|          | 0/20 [00:00<?, ?it/s]"
      ]
     },
     "metadata": {},
     "output_type": "display_data"
    },
    {
     "data": {
      "application/vnd.jupyter.widget-view+json": {
       "model_id": "514497dac1194a3c9299207c71b9f61a",
       "version_major": 2,
       "version_minor": 0
      },
      "text/plain": [
       "Labeling/Global Labeling        0%|          | 0/20 [00:00<?, ?it/s]"
      ]
     },
     "metadata": {},
     "output_type": "display_data"
    },
    {
     "data": {
      "application/vnd.jupyter.widget-view+json": {
       "model_id": "b270633553a94c9d9f7409cafa6802e2",
       "version_major": 2,
       "version_minor": 0
      },
      "text/plain": [
       "Mental Filter                   0%|          | 0/20 [00:00<?, ?it/s]"
      ]
     },
     "metadata": {},
     "output_type": "display_data"
    },
    {
     "data": {
      "application/vnd.jupyter.widget-view+json": {
       "model_id": "b2b9bb088eba461dad286b902e685348",
       "version_major": 2,
       "version_minor": 0
      },
      "text/plain": [
       "Mind Reading                    0%|          | 0/20 [00:00<?, ?it/s]"
      ]
     },
     "metadata": {},
     "output_type": "display_data"
    },
    {
     "data": {
      "application/vnd.jupyter.widget-view+json": {
       "model_id": "7f125c2c5b474da99d76689f189f7f3c",
       "version_major": 2,
       "version_minor": 0
      },
      "text/plain": [
       "Overgeneralization              0%|          | 0/20 [00:00<?, ?it/s]"
      ]
     },
     "metadata": {},
     "output_type": "display_data"
    },
    {
     "data": {
      "application/vnd.jupyter.widget-view+json": {
       "model_id": "09c900ebe18b4a13b686600239435d56",
       "version_major": 2,
       "version_minor": 0
      },
      "text/plain": [
       "Personalization                 0%|          | 0/20 [00:00<?, ?it/s]"
      ]
     },
     "metadata": {},
     "output_type": "display_data"
    },
    {
     "data": {
      "application/vnd.jupyter.widget-view+json": {
       "model_id": "1fd9bb9a48cd4b1f8dab1e7e24ec2c2d",
       "version_major": 2,
       "version_minor": 0
      },
      "text/plain": [
       "Should Statements               0%|          | 0/20 [00:00<?, ?it/s]"
      ]
     },
     "metadata": {},
     "output_type": "display_data"
    },
    {
     "data": {
      "application/vnd.jupyter.widget-view+json": {
       "model_id": "19c8cdf2893340ac91d17f0c1c419046",
       "version_major": 2,
       "version_minor": 0
      },
      "text/plain": [
       "Blaming                         0%|          | 0/20 [00:00<?, ?it/s]"
      ]
     },
     "metadata": {},
     "output_type": "display_data"
    },
    {
     "data": {
      "application/vnd.jupyter.widget-view+json": {
       "model_id": "702630086b6243738105648381fc2a7f",
       "version_major": 2,
       "version_minor": 0
      },
      "text/plain": [
       "What if?                        0%|          | 0/20 [00:00<?, ?it/s]"
      ]
     },
     "metadata": {},
     "output_type": "display_data"
    },
    {
     "data": {
      "application/vnd.jupyter.widget-view+json": {
       "model_id": "472e7ef13d21434a9a8a2b268bcd8f23",
       "version_major": 2,
       "version_minor": 0
      },
      "text/plain": [
       "Discounting the Positive        0%|          | 0/20 [00:00<?, ?it/s]"
      ]
     },
     "metadata": {},
     "output_type": "display_data"
    },
    {
     "data": {
      "application/vnd.jupyter.widget-view+json": {
       "model_id": "a3a23ee9ec094fafaeb0b1582fc6fbff",
       "version_major": 2,
       "version_minor": 0
      },
      "text/plain": [
       "Magnification/Minimization      0%|          | 0/20 [00:00<?, ?it/s]"
      ]
     },
     "metadata": {},
     "output_type": "display_data"
    },
    {
     "data": {
      "application/vnd.jupyter.widget-view+json": {
       "model_id": "a012cd1dc57244d58b18495117c8126d",
       "version_major": 2,
       "version_minor": 0
      },
      "text/plain": [
       "Jumping to Conclusions          0%|          | 0/20 [00:00<?, ?it/s]"
      ]
     },
     "metadata": {},
     "output_type": "display_data"
    },
    {
     "data": {
      "application/vnd.jupyter.widget-view+json": {
       "model_id": "8185400b6f524f278bef3dba5eca3db8",
       "version_major": 2,
       "version_minor": 0
      },
      "text/plain": [
       "Unfair Comparisons              0%|          | 0/20 [00:00<?, ?it/s]"
      ]
     },
     "metadata": {},
     "output_type": "display_data"
    },
    {
     "data": {
      "application/vnd.jupyter.widget-view+json": {
       "model_id": "04550f412ac1405186664a90a590f178",
       "version_major": 2,
       "version_minor": 0
      },
      "text/plain": [
       "Distortions                     0%|          | 0/15 [00:00<?, ?it/s]"
      ]
     },
     "metadata": {},
     "output_type": "display_data"
    },
    {
     "data": {
      "application/vnd.jupyter.widget-view+json": {
       "model_id": "e0bef794dc20471caf4258fd6ec2075e",
       "version_major": 2,
       "version_minor": 0
      },
      "text/plain": [
       "All or Nothing Thinking         0%|          | 0/20 [00:00<?, ?it/s]"
      ]
     },
     "metadata": {},
     "output_type": "display_data"
    },
    {
     "data": {
      "application/vnd.jupyter.widget-view+json": {
       "model_id": "8467c46249d64d46854b0997aa1386d0",
       "version_major": 2,
       "version_minor": 0
      },
      "text/plain": [
       "Fortune Telling                 0%|          | 0/20 [00:00<?, ?it/s]"
      ]
     },
     "metadata": {},
     "output_type": "display_data"
    },
    {
     "data": {
      "application/vnd.jupyter.widget-view+json": {
       "model_id": "83d784b7a7ee438a927893b9eccdabdc",
       "version_major": 2,
       "version_minor": 0
      },
      "text/plain": [
       "Emotional Reasoning             0%|          | 0/20 [00:00<?, ?it/s]"
      ]
     },
     "metadata": {},
     "output_type": "display_data"
    },
    {
     "data": {
      "application/vnd.jupyter.widget-view+json": {
       "model_id": "2629260f446645a6ab64594bd94c81f7",
       "version_major": 2,
       "version_minor": 0
      },
      "text/plain": [
       "Labeling/Global Labeling        0%|          | 0/20 [00:00<?, ?it/s]"
      ]
     },
     "metadata": {},
     "output_type": "display_data"
    },
    {
     "data": {
      "application/vnd.jupyter.widget-view+json": {
       "model_id": "532affd15ba449a786a64bbb8c2c2017",
       "version_major": 2,
       "version_minor": 0
      },
      "text/plain": [
       "Mental Filter                   0%|          | 0/20 [00:00<?, ?it/s]"
      ]
     },
     "metadata": {},
     "output_type": "display_data"
    },
    {
     "data": {
      "application/vnd.jupyter.widget-view+json": {
       "model_id": "62ecfe0018d84af79b0b73469dd73335",
       "version_major": 2,
       "version_minor": 0
      },
      "text/plain": [
       "Mind Reading                    0%|          | 0/20 [00:00<?, ?it/s]"
      ]
     },
     "metadata": {},
     "output_type": "display_data"
    }
   ],
   "source": [
    "format = \"{desc:<30}{percentage:3.0f}%|{bar}{r_bar}\"\n",
    "for i in trange(100, leave=False, desc='Iteration', ascii=True, bar_format=format): # run 100 times, resulting in 2000 samples for each distortion\n",
    "    data = []\n",
    "    for distortion, definition in tqdm(cognitive_distortions.items(), desc=\"Distortions\", leave=False, bar_format=format):\n",
    "        for _ in trange(20, desc=distortion, leave=False, bar_format=format):  # 20 samples for each distortion\n",
    "            try:\n",
    "                generated_prompt = generate_prompt(distortion).removesuffix('<|eot_id|>')     \n",
    "                generated_text = generate_text_from_prompt(generated_prompt, distortion).removesuffix('<|eot_id|>')\n",
    "                \n",
    "                data.append({\n",
    "                    \"cognitive_distortion\": distortion,  # label the cognitive distortion\n",
    "                    \"generated_prompt\": generated_prompt,\n",
    "                    \"generated_text\": generated_text\n",
    "                })                \n",
    "                \n",
    "            except Exception as e:\n",
    "                print(f\"Error generating text for {distortion}: {e}\")\n",
    "\n",
    "    with open(f'/home/g4/Mindwell/data/{datetime.now().strftime('%Y-%m-%d_%H:%M:%S')}.json', 'w') as f:\n",
    "        json.dump(data, f, indent=4)"
   ]
  }
 ],
 "metadata": {
  "kernelspec": {
   "display_name": "venv",
   "language": "python",
   "name": "python3"
  },
  "language_info": {
   "codemirror_mode": {
    "name": "ipython",
    "version": 3
   },
   "file_extension": ".py",
   "mimetype": "text/x-python",
   "name": "python",
   "nbconvert_exporter": "python",
   "pygments_lexer": "ipython3",
   "version": "3.12.2"
  }
 },
 "nbformat": 4,
 "nbformat_minor": 2
}
